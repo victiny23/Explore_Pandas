{
 "cells": [
  {
   "cell_type": "code",
   "execution_count": 1,
   "metadata": {},
   "outputs": [],
   "source": [
    "import pandas as pd"
   ]
  },
  {
   "cell_type": "code",
   "execution_count": null,
   "metadata": {},
   "outputs": [],
   "source": [
    "# access a column with given name\n",
    "df.country\n",
    "df['country']"
   ]
  },
  {
   "cell_type": "code",
   "execution_count": null,
   "metadata": {},
   "outputs": [],
   "source": [
    "# access the 1st row of column 'country'\n",
    "df['country'][0]"
   ]
  },
  {
   "cell_type": "code",
   "execution_count": null,
   "metadata": {},
   "outputs": [],
   "source": [
    "\"\"\"index-based selection\"\"\"\n",
    "# [row, column]\n",
    "# 1st row of 1st column\n",
    "df.iloc[0]\n",
    "# 1st column\n",
    "df.iloc[:, 0]\n",
    "# 1st row\n",
    "df.iloc[0] # or\n",
    "df.iloc[0, :]\n",
    "# 1st 3 rows of the 1st column\n",
    "df.iloc[:3, 0]\n",
    "df.iloc[[0, 1, 2], 0]\n",
    "# 5 rows from the bottoom\n",
    "df.iloc[-5:]"
   ]
  },
  {
   "cell_type": "code",
   "execution_count": null,
   "metadata": {},
   "outputs": [],
   "source": [
    "\"\"\"label based selection\"\"\"\n",
    "# 1st row of column 'country'\n",
    "df.loc[0, 'country']\n",
    "# columns of 'names' and 'points'\n",
    "df.loc[:, ['names', 'points']]"
   ]
  },
  {
   "cell_type": "code",
   "execution_count": null,
   "metadata": {},
   "outputs": [],
   "source": [
    "\"\"\"manipulate the index\"\"\"\n",
    "df.set_index('title')"
   ]
  },
  {
   "cell_type": "code",
   "execution_count": null,
   "metadata": {},
   "outputs": [],
   "source": [
    "\"\"\"\"Conditional Selection\"\"\"\"\n",
    "df['country'] == 'Italy' # returns a column of bool\n",
    "# select the rows where country is Italy and points >= 90\n",
    "df.loc[(df['country'] == 'Italy') & (df['country'] >= 90)]\n",
    "\n",
    "# select rows where country is in a list\n",
    "df.loc[df['country'].isin(['Italy', 'France'])]\n",
    "# select rows with index in a list\n",
    "df[df.index.isin([1, 2, 3, 5, 8])]\n",
    "\n",
    "# select rows and columns of choices\n",
    "indices = [0, 1, 10, 100]\n",
    "cols = ['country', 'price', 'region']\n",
    "df.loc[indices, cols]\n",
    "\n",
    "# highlight values which are (or not) emoty (NaN)\n",
    "df.loc[df['price'].isnull()]\n",
    "df.loc[df['price'].notnull()]"
   ]
  },
  {
   "cell_type": "code",
   "execution_count": null,
   "metadata": {},
   "outputs": [],
   "source": [
    "# select the 1st value from the description column\n",
    "df['description'][0]\n",
    "df['description'].iloc[0]\n",
    "df.loc[0, 'description']\n",
    "df.description.loc[0]\n",
    "df.description[0]"
   ]
  },
  {
   "cell_type": "code",
   "execution_count": null,
   "metadata": {},
   "outputs": [],
   "source": [
    "\"\"\"assign data\"\"\"\n",
    "# assign a constant value\n",
    "df['col1'] = 'everyone'\n",
    "# assign an iterable of values\n",
    "df['index_backwards'] = ramge(len(df), 0, -1)"
   ]
  }
 ],
 "metadata": {
  "kernelspec": {
   "display_name": "Python 3",
   "language": "python",
   "name": "python3"
  },
  "language_info": {
   "codemirror_mode": {
    "name": "ipython",
    "version": 3
   },
   "file_extension": ".py",
   "mimetype": "text/x-python",
   "name": "python",
   "nbconvert_exporter": "python",
   "pygments_lexer": "ipython3",
   "version": "3.7.1"
  }
 },
 "nbformat": 4,
 "nbformat_minor": 2
}
