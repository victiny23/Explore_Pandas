{
 "cells": [
  {
   "cell_type": "code",
   "execution_count": 2,
   "metadata": {},
   "outputs": [],
   "source": [
    "import pandas as pd"
   ]
  },
  {
   "cell_type": "code",
   "execution_count": null,
   "metadata": {},
   "outputs": [],
   "source": [
    "\"\"\"Smmary functions\"\"\"\n",
    "df['Points'].describe()\n",
    "df['points'].mean()\n",
    "# to see a list of unique values\n",
    "df['names'].unique()\n",
    "# to see a list of unique values and how often they occur in the dataset\n",
    "df['names'].value_counts()"
   ]
  },
  {
   "cell_type": "code",
   "execution_count": null,
   "metadata": {},
   "outputs": [],
   "source": [
    "# find the index of the max \n",
    "idx = df['points']/df['price'].idmax()\n",
    "# find the title from the row with max\n",
    "df.loc[idx, 'title']"
   ]
  },
  {
   "cell_type": "code",
   "execution_count": null,
   "metadata": {},
   "outputs": [],
   "source": [
    "\"\"\"Maps\"\"\"\n",
    "# a function that takes one set of values\n",
    "# and \"maps\" them to another set of values\n",
    "\n",
    "points_mean = df['points'].mean()\n",
    "df['points'].map(lambda p: p - points_mean)\n",
    "# the same as\n",
    "df['points'] - df['points'].mean()"
   ]
  },
  {
   "cell_type": "code",
   "execution_count": null,
   "metadata": {},
   "outputs": [],
   "source": [
    "# create a Series counting how many times each of the words 'tropical' and 'fruity' appears in the 'description' column\n",
    "n_trop = df['description'].map(lambda desc: 'tropical' in desc).sum()\n",
    "n_frui = df['description'].map(lambda desc: 'fruity' in desc).sum()\n",
    "descriptor_counts = pd.Series([n_trop, n_frui], index=['tropical', 'fruity'])"
   ]
  },
  {
   "cell_type": "code",
   "execution_count": null,
   "metadata": {},
   "outputs": [],
   "source": [
    "def remean_points(row):\n",
    "    row['points'] = row['points'] - points_mean\n",
    "    return row\n",
    "\n",
    "df.apply(remean_points, axis='columns')"
   ]
  },
  {
   "cell_type": "code",
   "execution_count": null,
   "metadata": {},
   "outputs": [],
   "source": [
    "def rate(row):\n",
    "    if row['country'] == 'Canada':\n",
    "        return 3\n",
    "    if row['points'] >= 95:\n",
    "        return 3\n",
    "    if row['points'] >= 85:\n",
    "        return 2\n",
    "    else:\n",
    "        return 1\n",
    "    \n",
    "df.apply(rate, axis='columns')"
   ]
  },
  {
   "cell_type": "code",
   "execution_count": null,
   "metadata": {},
   "outputs": [],
   "source": [
    "# axis='coulmns' to transform each row\n",
    "# axis='index' to transform each column"
   ]
  },
  {
   "cell_type": "code",
   "execution_count": null,
   "metadata": {},
   "outputs": [],
   "source": [
    "\"\"\"map() and apply()return new, transformed Series and DataFrames, they don't modify the original data\"\"\""
   ]
  },
  {
   "cell_type": "code",
   "execution_count": null,
   "metadata": {},
   "outputs": [],
   "source": [
    "# operators are faster than map() and apply()\n",
    "df['country'] + '-' + df['region']"
   ]
  }
 ],
 "metadata": {
  "kernelspec": {
   "display_name": "Python 3",
   "language": "python",
   "name": "python3"
  },
  "language_info": {
   "codemirror_mode": {
    "name": "ipython",
    "version": 3
   },
   "file_extension": ".py",
   "mimetype": "text/x-python",
   "name": "python",
   "nbconvert_exporter": "python",
   "pygments_lexer": "ipython3",
   "version": "3.7.1"
  }
 },
 "nbformat": 4,
 "nbformat_minor": 2
}
